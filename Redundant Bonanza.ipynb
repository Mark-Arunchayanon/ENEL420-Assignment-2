{
 "cells": [
  {
   "cell_type": "code",
   "execution_count": 1,
   "metadata": {},
   "outputs": [
    {
     "name": "stdout",
     "output_type": "stream",
     "text": [
      "Harmonic= 1  Amplitude=1.0000\n",
      "Harmonic= 3  Amplitude=0.3333\n",
      "Harmonic= 5  Amplitude=0.2000\n",
      "done\n"
     ]
    }
   ],
   "source": [
    "#   w a v e . p y\n",
    "#\n",
    "import sys\n",
    "from tkinter import *\n",
    "from math    import *\n",
    "import matplotlib.pyplot as plt\n",
    "import matplotlib\n",
    "\n",
    "class wave :\n",
    "    def __init__ (self, points=400, formula=None) :\n",
    "        self.data = [0.0]*points\n",
    "        self.points= points\n",
    "        if formula :\n",
    "            for p in range(points) :\n",
    "                x = p*pi*2/points\n",
    "                self.data[p] = eval(formula)\n",
    "\n",
    "    def __add__ (self, other) :\n",
    "        target = wave(points=self.points)\n",
    "        for i in range(self.points) :\n",
    "            target.data[i] = self.data[i] + other.data[i]\n",
    "        return target\n",
    "\n",
    "    def __mul__ (self, other) :\n",
    "        target = wave(points=self.points)\n",
    "        if type(other) == type(5) or type(other) == type(5.0) :\n",
    "            for i in range(self.points) :\n",
    "                target.data[i] = self.data[i] * other\n",
    "        else :\n",
    "            for i in range(self.points) :\n",
    "                target.data[i] = self.data[i] * other.data[i]\n",
    "        return target\n",
    "\n",
    "    def __sub__ (self, other) :\n",
    "        target = wave(points=self.points)\n",
    "        for i in range(self.points) :\n",
    "            target.data[i] = self.data[i] - other.data[i]\n",
    "        return target\n",
    "\n",
    "    def integral(self) :\n",
    "        ans = 0.0\n",
    "        for pt in self.data : ans = ans+pt\n",
    "        return ans*2*pi/self.points\n",
    "\n",
    "    def plot (self, title=\"??\", pixHeight=None, maxY=None, others=[]) :\n",
    "        if not pixHeight : pixHeight = self.points*2/3   # Pleasant ratio\n",
    "        pixWidth = self.points\n",
    "        # find max and min data to scale\n",
    "        if not maxY :\n",
    "            maxY = max (max(self.data), -min(self.data))\n",
    "        offset = pixHeight/2\n",
    "        scale = offset/maxY\n",
    "\n",
    "        win = Tk()\n",
    "        win.title (title)\n",
    "        canvas = Canvas(win,width=pixWidth,height=pixHeight)\n",
    "        # create zero line\n",
    "        canvas.create_line(0,offset,pixWidth,offset)\n",
    "        canvas.pack()\n",
    "\n",
    "        self.plotOne (canvas, pixWidth, scale, offset)\n",
    "        for i in range(len(others)) :\n",
    "            others[i].plotOne (canvas, pixWidth, scale, offset)\n",
    "        if sys.platform == \"win32\" : win.mainloop()\n",
    "\n",
    "    def plotOne (self, canvas, pixWidth, scale, offset) :\n",
    "        for x in range(pixWidth) :\n",
    "            y = offset - self.data[x] * scale\n",
    "            if x : canvas.create_line(x-1,yprev,x,y)\n",
    "            yprev = y\n",
    "\n",
    "    def fft (self) :\n",
    "        work = self * 1   # Harmonics will be stripped from this\n",
    "        for harm in range(1,10) :\n",
    "            formula=\"-sin(%d*x)\" % harm\n",
    "            area = (wave(formula=formula)*work).integral()\n",
    "            amplitude = area/-pi\n",
    "            if amplitude > .000001 :\n",
    "                print(\"Harmonic=\",harm, \" Amplitude=%.04f\" % amplitude)\n",
    "            takeAway = wave(formula=\"sin(%d*x) * %f\" % (harm,amplitude))\n",
    "            work = work-takeAway\n",
    "\n",
    "def test() :\n",
    "    p1 = wave(formula=\"sin(x)/1\")\n",
    "    p3 = wave(formula=\"sin(3*x)/3\")\n",
    "    p5 = wave(formula=\"sin(5*x)/5\")\n",
    "    mys = p1+p3+p5\n",
    "    mys.fft()\n",
    "    mys.plot()\n",
    "    print(\"done\")\n",
    "\n",
    "if __name__ == \"__main__\" : test()\n"
   ]
  },
  {
   "cell_type": "code",
   "execution_count": null,
   "metadata": {},
   "outputs": [],
   "source": [
    "plt.plot(mys)"
   ]
  },
  {
   "cell_type": "code",
   "execution_count": null,
   "metadata": {},
   "outputs": [],
   "source": [
    "def harmonicSinWaves(freq=None, amp=1, harmonics=1):\n",
    "    for n in harmonics:\n",
    "        waveSum += amp * np.sin(2*np.pi*freq*n*t)"
   ]
  },
  {
   "cell_type": "code",
   "execution_count": null,
   "metadata": {},
   "outputs": [],
   "source": []
  },
  {
   "cell_type": "code",
   "execution_count": null,
   "metadata": {},
   "outputs": [],
   "source": [
    "p1 = wave(formula=\"sin(x)/1\")\n",
    "p3 = wave(formula=\"sin(3*x)/3\")\n",
    "p5 = wave(formula=\"sin(5*x)/5\")\n",
    "mys = p1+p3+p5\n",
    "mys.fft()\n",
    "# mys.plotOne()"
   ]
  },
  {
   "cell_type": "code",
   "execution_count": null,
   "metadata": {},
   "outputs": [],
   "source": [
    "mys.plot(maxY=1.5, pixHeight=200, title=\"Sin(x) + .5sin(2*x)\")"
   ]
  },
  {
   "cell_type": "code",
   "execution_count": null,
   "metadata": {},
   "outputs": [],
   "source": []
  }
 ],
 "metadata": {
  "kernelspec": {
   "display_name": "Python 3",
   "language": "python",
   "name": "python3"
  },
  "language_info": {
   "codemirror_mode": {
    "name": "ipython",
    "version": 3
   },
   "file_extension": ".py",
   "mimetype": "text/x-python",
   "name": "python",
   "nbconvert_exporter": "python",
   "pygments_lexer": "ipython3",
   "version": "3.7.6"
  }
 },
 "nbformat": 4,
 "nbformat_minor": 4
}
